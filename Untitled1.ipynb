{
 "cells": [
  {
   "cell_type": "code",
   "execution_count": 5,
   "id": "0b554de5-e3c1-4b8e-8315-2e318b03804f",
   "metadata": {},
   "outputs": [
    {
     "name": "stderr",
     "output_type": "stream",
     "text": [
      "Installing package into 'C:/Users/82108/AppData/Local/R/win-library/4.3'\n",
      "(as 'lib' is unspecified)\n",
      "\n",
      "Warning message:\n",
      "\"package 'rgdal' is not available for this version of R\n",
      "\n",
      "A version of this package for your version of R might be available elsewhere,\n",
      "see the ideas at\n",
      "https://cran.r-project.org/doc/manuals/r-patched/R-admin.html#Installing-packages\"\n"
     ]
    }
   ],
   "source": [
    "install.packages(c(\"rgdal\"))"
   ]
  },
  {
   "cell_type": "code",
   "execution_count": 4,
   "id": "87b70ba6-d6ce-4159-a344-d652c90c7d3d",
   "metadata": {},
   "outputs": [
    {
     "ename": "ERROR",
     "evalue": "Error in library(rgdal, warn.conflicts = FALSE, quietly = TRUE, verbose = FALSE): there is no package called 'rgdal'\n",
     "output_type": "error",
     "traceback": [
      "Error in library(rgdal, warn.conflicts = FALSE, quietly = TRUE, verbose = FALSE): there is no package called 'rgdal'\nTraceback:\n",
      "1. suppressPackageStartupMessages({\n .     library(rgdal, warn.conflicts = FALSE, quietly = TRUE, verbose = FALSE)\n .     library(ggmap, warn.conflicts = FALSE, quietly = TRUE, verbose = FALSE)\n .     library(sp, warn.conflicts = FALSE, quietly = TRUE, verbose = FALSE)\n .     library(maptools, warn.conflicts = FALSE, quietly = TRUE, \n .         verbose = FALSE)\n .     library(viridis, warn.conflicts = FALSE, quietly = TRUE, \n .         verbose = FALSE)\n .     library(magrittr, warn.conflicts = FALSE, quietly = TRUE, \n .         verbose = FALSE)\n .     library(scales, warn.conflicts = FALSE, quietly = TRUE, verbose = FALSE)\n .     library(gridExtra, warn.conflicts = FALSE, quietly = TRUE, \n .         verbose = FALSE)\n .     library(data.table, warn.conflicts = FALSE, quietly = TRUE, \n .         verbose = FALSE)\n .     library(tidyverse, warn.conflicts = FALSE, quietly = TRUE, \n .         verbose = FALSE)\n .     library(lubridate, warn.conflicts = FALSE, quietly = TRUE, \n .         verbose = FALSE)\n .     library(gridExtra, warn.conflicts = FALSE, quietly = TRUE, \n .         verbose = FALSE)\n .     library(factoextra, warn.conflicts = FALSE, quietly = TRUE, \n .         verbose = FALSE)\n .     library(tfplot, warn.conflicts = FALSE, quietly = TRUE, verbose = FALSE)\n .     library(tsfa, warn.conflicts = FALSE, quietly = TRUE, verbose = FALSE)\n .     library(factoextra, warn.conflicts = FALSE, quietly = TRUE, \n .         verbose = FALSE)\n .     library(cluster, warn.conflicts = FALSE, quietly = TRUE, \n .         verbose = FALSE)\n .     library(IRdisplay, warn.conflicts = FALSE, quietly = TRUE, \n .         verbose = FALSE)\n .     library(foreign, warn.conflicts = FALSE, quietly = TRUE, \n .         verbose = FALSE)\n .     library(extrafont, warn.conflicts = FALSE, quietly = TRUE, \n .         verbose = FALSE)\n .     library(showtext, warn.conflicts = FALSE, quietly = TRUE, \n .         verbose = FALSE)\n .     library(grid, warn.conflicts = FALSE, quietly = TRUE, verbose = FALSE)\n . })",
      "2. withCallingHandlers(expr, packageStartupMessage = function(c) tryInvokeRestart(\"muffleMessage\"))",
      "3. library(rgdal, warn.conflicts = FALSE, quietly = TRUE, verbose = FALSE)   # at line 2 of file <text>"
     ]
    }
   ],
   "source": [
    "suppressPackageStartupMessages({ \n",
    "    library(rgdal,warn.conflicts = FALSE, quietly = TRUE, verbose = FALSE)\n",
    "    library(ggmap,warn.conflicts = FALSE, quietly = TRUE, verbose = FALSE)\n",
    "    library(sp,warn.conflicts = FALSE, quietly = TRUE, verbose = FALSE)\n",
    "    library(maptools,warn.conflicts = FALSE, quietly = TRUE, verbose = FALSE)\n",
    "    library(viridis,warn.conflicts = FALSE, quietly = TRUE, verbose = FALSE)\n",
    "    library(magrittr,warn.conflicts = FALSE, quietly = TRUE, verbose = FALSE)\n",
    "    library(scales,warn.conflicts = FALSE, quietly = TRUE, verbose = FALSE)\n",
    "    library(gridExtra,warn.conflicts = FALSE, quietly = TRUE, verbose = FALSE)\n",
    "    library(data.table, warn.conflicts = FALSE, quietly = TRUE, verbose = FALSE)\n",
    "    library(tidyverse, warn.conflicts = FALSE, quietly = TRUE, verbose = FALSE)\n",
    "    library(lubridate, warn.conflicts = FALSE, quietly = TRUE, verbose = FALSE)\n",
    "    library(gridExtra, warn.conflicts = FALSE, quietly = TRUE, verbose = FALSE)\n",
    "    library(factoextra, warn.conflicts = FALSE, quietly = TRUE, verbose = FALSE)\n",
    "    library(tfplot, warn.conflicts = FALSE, quietly = TRUE, verbose = FALSE)\n",
    "    library(tsfa, warn.conflicts = FALSE, quietly = TRUE, verbose = FALSE)\n",
    "    library(factoextra, warn.conflicts = FALSE, quietly = TRUE, verbose = FALSE)\n",
    "    library(cluster, warn.conflicts = FALSE, quietly = TRUE, verbose = FALSE)\n",
    "    library(IRdisplay, warn.conflicts = FALSE, quietly = TRUE, verbose = FALSE)\n",
    "    library(foreign,warn.conflicts = FALSE, quietly = TRUE, verbose = FALSE)\n",
    "    library(extrafont,warn.conflicts = FALSE, quietly = TRUE, verbose = FALSE)\n",
    "    library(showtext,warn.conflicts = FALSE, quietly = TRUE, verbose = FALSE)\n",
    "    library(grid,warn.conflicts = FALSE, quietly = TRUE, verbose = FALSE)\n",
    "})"
   ]
  },
  {
   "cell_type": "code",
   "execution_count": 3,
   "id": "d3897342-cd37-49e2-8c03-83c5f96d0683",
   "metadata": {},
   "outputs": [
    {
     "data": {
      "text/html": [
       "<style>\n",
       ".list-inline {list-style: none; margin:0; padding: 0}\n",
       ".list-inline>li {display: inline-block}\n",
       ".list-inline>li:not(:last-child)::after {content: \"\\00b7\"; padding: 0 .5ex}\n",
       "</style>\n",
       "<ol class=list-inline><li>'C:/Users/82108/AppData/Local/R/win-library/4.3'</li><li>'C:/Program Files/R/R-4.3.1/library'</li></ol>\n"
      ],
      "text/latex": [
       "\\begin{enumerate*}\n",
       "\\item 'C:/Users/82108/AppData/Local/R/win-library/4.3'\n",
       "\\item 'C:/Program Files/R/R-4.3.1/library'\n",
       "\\end{enumerate*}\n"
      ],
      "text/markdown": [
       "1. 'C:/Users/82108/AppData/Local/R/win-library/4.3'\n",
       "2. 'C:/Program Files/R/R-4.3.1/library'\n",
       "\n",
       "\n"
      ],
      "text/plain": [
       "[1] \"C:/Users/82108/AppData/Local/R/win-library/4.3\"\n",
       "[2] \"C:/Program Files/R/R-4.3.1/library\"            "
      ]
     },
     "metadata": {},
     "output_type": "display_data"
    }
   ],
   "source": [
    ".libPaths()"
   ]
  },
  {
   "cell_type": "code",
   "execution_count": null,
   "id": "e0d3515a-b7f3-483e-9f5c-fa2110852899",
   "metadata": {},
   "outputs": [],
   "source": []
  }
 ],
 "metadata": {
  "kernelspec": {
   "display_name": "R",
   "language": "R",
   "name": "ir"
  },
  "language_info": {
   "codemirror_mode": "r",
   "file_extension": ".r",
   "mimetype": "text/x-r-source",
   "name": "R",
   "pygments_lexer": "r",
   "version": "4.3.1"
  }
 },
 "nbformat": 4,
 "nbformat_minor": 5
}
